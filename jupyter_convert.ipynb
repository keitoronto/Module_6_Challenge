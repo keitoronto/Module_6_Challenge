{
 "cells": [
  {
   "cell_type": "code",
   "execution_count": 1,
   "id": "1d587924-ebce-4978-b850-888097aec0c7",
   "metadata": {},
   "outputs": [
    {
     "data": {
      "text/plain": [
       "0"
      ]
     },
     "execution_count": 1,
     "metadata": {},
     "output_type": "execute_result"
    }
   ],
   "source": [
    "# The HTML file will be saved with the same name as the notebook, but with the .html extension\n",
    "# For example, my_notebook.html\n",
    "\n",
    "# Import necessary library\n",
    "import os\n",
    "\n",
    "# Define the notebook file name\n",
    "notebook_file = 'san_francisco_housing.ipynb'\n",
    "\n",
    "# Convert the notebook to HTML\n",
    "os.system(f'jupyter nbconvert --to html {notebook_file}')"
   ]
  },
  {
   "cell_type": "code",
   "execution_count": null,
   "id": "7bdfe782-741b-4d23-b768-02e1acb7b708",
   "metadata": {},
   "outputs": [],
   "source": []
  }
 ],
 "metadata": {
  "kernelspec": {
   "display_name": "Python 3 (ipykernel)",
   "language": "python",
   "name": "python3"
  },
  "language_info": {
   "codemirror_mode": {
    "name": "ipython",
    "version": 3
   },
   "file_extension": ".py",
   "mimetype": "text/x-python",
   "name": "python",
   "nbconvert_exporter": "python",
   "pygments_lexer": "ipython3",
   "version": "3.7.15"
  }
 },
 "nbformat": 4,
 "nbformat_minor": 5
}
